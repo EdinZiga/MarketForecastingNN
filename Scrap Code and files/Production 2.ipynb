{
 "cells": [
  {
   "cell_type": "code",
   "execution_count": 1,
   "id": "7e64d142-f76f-4ce3-b5f4-cc9f40b50eb0",
   "metadata": {},
   "outputs": [],
   "source": [
    "# multivariate multi-step stacked lstm example\n",
    "from numpy import array\n",
    "from numpy import hstack\n",
    "from keras.models import Sequential\n",
    "from keras.layers import LSTM\n",
    "from keras.layers import Dense"
   ]
  },
  {
   "cell_type": "code",
   "execution_count": null,
   "id": "66395afb-f6b6-42b4-87bf-956d9fad0655",
   "metadata": {},
   "outputs": [],
   "source": [
    "# split a multivariate sequence into samples\n",
    "def split_sequences(sequences, n_steps_in, n_steps_out):\n",
    " X, y = list(), list()\n",
    " for i in range(len(sequences)):\n",
    " # find the end of this pattern\n",
    "     end_ix = i + n_steps_in\n",
    "     out_end_ix = end_ix + n_steps_out-1\n",
    " # check if we are beyond the dataset\n",
    "     if out_end_ix > len(sequences):\n",
    "         break\n",
    " # gather input and output parts of the pattern\n",
    "     seq_x, seq_y = sequences[i:end_ix, :-1], sequences[end_ix-1:out_end_ix, -1]\n",
    "     X.append(seq_x)\n",
    "     y.append(seq_y)\n",
    " return array(X), array(y)"
   ]
  },
  {
   "cell_type": "code",
   "execution_count": null,
   "id": "f5dac097-cd50-47ac-a9bb-5affd084c32f",
   "metadata": {},
   "outputs": [],
   "source": []
  }
 ],
 "metadata": {
  "kernelspec": {
   "display_name": "Python 3 (ipykernel)",
   "language": "python",
   "name": "python3"
  },
  "language_info": {
   "codemirror_mode": {
    "name": "ipython",
    "version": 3
   },
   "file_extension": ".py",
   "mimetype": "text/x-python",
   "name": "python",
   "nbconvert_exporter": "python",
   "pygments_lexer": "ipython3",
   "version": "3.12.2"
  }
 },
 "nbformat": 4,
 "nbformat_minor": 5
}
