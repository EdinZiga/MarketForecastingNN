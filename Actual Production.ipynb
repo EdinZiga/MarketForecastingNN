{
 "cells": [
  {
   "cell_type": "code",
   "execution_count": 1,
   "id": "d0775207-a339-40bc-875d-0831b46394a1",
   "metadata": {},
   "outputs": [],
   "source": [
    "# multivariate multi-step stacked lstm example\n",
    "from numpy import array\n",
    "from numpy import hstack\n",
    "from keras.models import Sequential\n",
    "from keras.layers import LSTM\n",
    "from keras.layers import Dense\n",
    "from sklearn.preprocessing import MinMaxScaler\n",
    "from sklearn.preprocessing import LabelEncoder\n",
    "from sklearn.metrics import mean_squared_error\n",
    "import csv\n",
    "import pandas as pd\n",
    "import keras\n",
    "from pandas import read_csv\n",
    "from matplotlib import pyplot\n",
    "from statsmodels.tsa.stattools import adfuller\n",
    "from tqdm import tqdm"
   ]
  },
  {
   "cell_type": "code",
   "execution_count": 2,
   "id": "f475e426-9382-48fb-a42c-c1b8865923f8",
   "metadata": {},
   "outputs": [],
   "source": [
    "# N_Steps_In je input rolling window, N_Steps_Out je output rolling window (tj forecast period, ali continuos)\n",
    "n_steps_in = 30\n",
    "n_steps_out = 5\n",
    "\n",
    "# split a multivariate sequence into samples\n",
    "def split_sequences(sequences, n_steps_in, n_steps_out):\n",
    "\tX, y = list(), list()\n",
    "\tfor i in range(len(sequences)):\n",
    "\t\t# find the end of this pattern\n",
    "\t\tend_ix = i + n_steps_in\n",
    "\t\tout_end_ix = end_ix + n_steps_out-1\n",
    "\t\t# check if we are beyond the dataset\n",
    "\t\tif out_end_ix > len(sequences):\n",
    "\t\t\tbreak\n",
    "\t\t# gather input and output parts of the pattern\n",
    "\t\tseq_x, seq_y = sequences[i:end_ix, :-1], sequences[end_ix-1:out_end_ix, -1]\n",
    "\t\tX.append(seq_x)\n",
    "\t\ty.append(seq_y)\n",
    "\treturn array(X), array(y)\n",
    "\n",
    "# load dataset\n",
    "dataset = read_csv('CSV Files with Calculated Indicators/NYSE.csv', header=0, index_col=None)\n",
    "\n",
    "# Convert Date column to date, but in this case Date is index column\n",
    "dataset['Date'] = pd.to_datetime(dataset['Date'], origin='1900-01-01', unit='D')\n",
    "\n",
    "timestamps = dataset['Date'].copy()\n",
    "dataset = dataset.drop('Date', axis=1)\n",
    "\n",
    "dataset = dataset.astype('float32')\n",
    "\n",
    "# integer encode direction\n",
    "encoder = LabelEncoder()\n",
    "dataset['CT'] = encoder.fit_transform(dataset['CT'])\n",
    "\n",
    "# Shifted target kolona\n",
    "dataset['Adj Close_Shifted'] = dataset['Adj Close'].shift(periods=-n_steps_out)\n",
    "\n",
    "dataset = dataset.dropna()\n",
    "\n",
    "training_data = dataset.iloc[:-503+n_steps_out].copy()\n",
    "validation_data = dataset.iloc[-503+n_steps_out:-251+n_steps_out:].copy()\n",
    "testing_data = dataset.iloc[-251+n_steps_out:].copy()\n",
    "\n",
    "#Exported values\n",
    "training_values = training_data.values\n",
    "validation_values = validation_data.values\n",
    "testing_values = testing_data.values\n",
    "\n",
    "# normalize features\n",
    "scaler = MinMaxScaler(feature_range=(0, 1))\n",
    "\n",
    "training_scaled = scaler.fit_transform(training_values)\n",
    "validation_scaled = scaler.fit_transform(validation_values)\n",
    "testing_scaled = scaler.fit_transform(testing_values)\n",
    "\n",
    "x_training, y_training = split_sequences(training_scaled, n_steps_in, n_steps_out)\n",
    "x_validation, y_validation = split_sequences(validation_scaled, n_steps_in, n_steps_out)\n",
    "x_testing, y_testing = split_sequences(testing_scaled, n_steps_in, n_steps_out)\n",
    "\n",
    "n_features = x_training.shape[2] #Broj kolona\n",
    "\n",
    "# print('This is X[0]')\n",
    "# print(X[0])\n",
    "# print('This is y[0]') #Y je set odgovora, svaki row je zapravo serija odgovora.\n",
    "# print(y[0])\n",
    "# print(n_features)\n"
   ]
  },
  {
   "cell_type": "code",
   "execution_count": 3,
   "id": "d5c9ec9c-b53d-403e-831f-fdfdd25b6286",
   "metadata": {},
   "outputs": [
    {
     "data": {
      "text/html": [
       "<pre style=\"white-space:pre;overflow-x:auto;line-height:normal;font-family:Menlo,'DejaVu Sans Mono',consolas,'Courier New',monospace\"><span style=\"font-weight: bold\">Model: \"functional_1\"</span>\n",
       "</pre>\n"
      ],
      "text/plain": [
       "\u001b[1mModel: \"functional_1\"\u001b[0m\n"
      ]
     },
     "metadata": {},
     "output_type": "display_data"
    },
    {
     "data": {
      "text/html": [
       "<pre style=\"white-space:pre;overflow-x:auto;line-height:normal;font-family:Menlo,'DejaVu Sans Mono',consolas,'Courier New',monospace\">┏━━━━━━━━━━━━━━━━━━━━━━━━━━━━━━━━━━━━━━┳━━━━━━━━━━━━━━━━━━━━━━━━━━━━━┳━━━━━━━━━━━━━━━━━┓\n",
       "┃<span style=\"font-weight: bold\"> Layer (type)                         </span>┃<span style=\"font-weight: bold\"> Output Shape                </span>┃<span style=\"font-weight: bold\">         Param # </span>┃\n",
       "┡━━━━━━━━━━━━━━━━━━━━━━━━━━━━━━━━━━━━━━╇━━━━━━━━━━━━━━━━━━━━━━━━━━━━━╇━━━━━━━━━━━━━━━━━┩\n",
       "│ input_layer (<span style=\"color: #0087ff; text-decoration-color: #0087ff\">InputLayer</span>)             │ (<span style=\"color: #00d7ff; text-decoration-color: #00d7ff\">None</span>, <span style=\"color: #00af00; text-decoration-color: #00af00\">30</span>, <span style=\"color: #00af00; text-decoration-color: #00af00\">63</span>)              │               <span style=\"color: #00af00; text-decoration-color: #00af00\">0</span> │\n",
       "├──────────────────────────────────────┼─────────────────────────────┼─────────────────┤\n",
       "│ lstm (<span style=\"color: #0087ff; text-decoration-color: #0087ff\">LSTM</span>)                          │ (<span style=\"color: #00d7ff; text-decoration-color: #00d7ff\">None</span>, <span style=\"color: #00af00; text-decoration-color: #00af00\">30</span>, <span style=\"color: #00af00; text-decoration-color: #00af00\">150</span>)             │         <span style=\"color: #00af00; text-decoration-color: #00af00\">128,400</span> │\n",
       "├──────────────────────────────────────┼─────────────────────────────┼─────────────────┤\n",
       "│ dropout (<span style=\"color: #0087ff; text-decoration-color: #0087ff\">Dropout</span>)                    │ (<span style=\"color: #00d7ff; text-decoration-color: #00d7ff\">None</span>, <span style=\"color: #00af00; text-decoration-color: #00af00\">30</span>, <span style=\"color: #00af00; text-decoration-color: #00af00\">150</span>)             │               <span style=\"color: #00af00; text-decoration-color: #00af00\">0</span> │\n",
       "├──────────────────────────────────────┼─────────────────────────────┼─────────────────┤\n",
       "│ lstm_1 (<span style=\"color: #0087ff; text-decoration-color: #0087ff\">LSTM</span>)                        │ (<span style=\"color: #00d7ff; text-decoration-color: #00d7ff\">None</span>, <span style=\"color: #00af00; text-decoration-color: #00af00\">30</span>, <span style=\"color: #00af00; text-decoration-color: #00af00\">150</span>)             │         <span style=\"color: #00af00; text-decoration-color: #00af00\">180,600</span> │\n",
       "├──────────────────────────────────────┼─────────────────────────────┼─────────────────┤\n",
       "│ dropout_1 (<span style=\"color: #0087ff; text-decoration-color: #0087ff\">Dropout</span>)                  │ (<span style=\"color: #00d7ff; text-decoration-color: #00d7ff\">None</span>, <span style=\"color: #00af00; text-decoration-color: #00af00\">30</span>, <span style=\"color: #00af00; text-decoration-color: #00af00\">150</span>)             │               <span style=\"color: #00af00; text-decoration-color: #00af00\">0</span> │\n",
       "├──────────────────────────────────────┼─────────────────────────────┼─────────────────┤\n",
       "│ lstm_2 (<span style=\"color: #0087ff; text-decoration-color: #0087ff\">LSTM</span>)                        │ (<span style=\"color: #00d7ff; text-decoration-color: #00d7ff\">None</span>, <span style=\"color: #00af00; text-decoration-color: #00af00\">150</span>)                 │         <span style=\"color: #00af00; text-decoration-color: #00af00\">180,600</span> │\n",
       "├──────────────────────────────────────┼─────────────────────────────┼─────────────────┤\n",
       "│ dense (<span style=\"color: #0087ff; text-decoration-color: #0087ff\">Dense</span>)                        │ (<span style=\"color: #00d7ff; text-decoration-color: #00d7ff\">None</span>, <span style=\"color: #00af00; text-decoration-color: #00af00\">5</span>)                   │             <span style=\"color: #00af00; text-decoration-color: #00af00\">755</span> │\n",
       "└──────────────────────────────────────┴─────────────────────────────┴─────────────────┘\n",
       "</pre>\n"
      ],
      "text/plain": [
       "┏━━━━━━━━━━━━━━━━━━━━━━━━━━━━━━━━━━━━━━┳━━━━━━━━━━━━━━━━━━━━━━━━━━━━━┳━━━━━━━━━━━━━━━━━┓\n",
       "┃\u001b[1m \u001b[0m\u001b[1mLayer (type)                        \u001b[0m\u001b[1m \u001b[0m┃\u001b[1m \u001b[0m\u001b[1mOutput Shape               \u001b[0m\u001b[1m \u001b[0m┃\u001b[1m \u001b[0m\u001b[1m        Param #\u001b[0m\u001b[1m \u001b[0m┃\n",
       "┡━━━━━━━━━━━━━━━━━━━━━━━━━━━━━━━━━━━━━━╇━━━━━━━━━━━━━━━━━━━━━━━━━━━━━╇━━━━━━━━━━━━━━━━━┩\n",
       "│ input_layer (\u001b[38;5;33mInputLayer\u001b[0m)             │ (\u001b[38;5;45mNone\u001b[0m, \u001b[38;5;34m30\u001b[0m, \u001b[38;5;34m63\u001b[0m)              │               \u001b[38;5;34m0\u001b[0m │\n",
       "├──────────────────────────────────────┼─────────────────────────────┼─────────────────┤\n",
       "│ lstm (\u001b[38;5;33mLSTM\u001b[0m)                          │ (\u001b[38;5;45mNone\u001b[0m, \u001b[38;5;34m30\u001b[0m, \u001b[38;5;34m150\u001b[0m)             │         \u001b[38;5;34m128,400\u001b[0m │\n",
       "├──────────────────────────────────────┼─────────────────────────────┼─────────────────┤\n",
       "│ dropout (\u001b[38;5;33mDropout\u001b[0m)                    │ (\u001b[38;5;45mNone\u001b[0m, \u001b[38;5;34m30\u001b[0m, \u001b[38;5;34m150\u001b[0m)             │               \u001b[38;5;34m0\u001b[0m │\n",
       "├──────────────────────────────────────┼─────────────────────────────┼─────────────────┤\n",
       "│ lstm_1 (\u001b[38;5;33mLSTM\u001b[0m)                        │ (\u001b[38;5;45mNone\u001b[0m, \u001b[38;5;34m30\u001b[0m, \u001b[38;5;34m150\u001b[0m)             │         \u001b[38;5;34m180,600\u001b[0m │\n",
       "├──────────────────────────────────────┼─────────────────────────────┼─────────────────┤\n",
       "│ dropout_1 (\u001b[38;5;33mDropout\u001b[0m)                  │ (\u001b[38;5;45mNone\u001b[0m, \u001b[38;5;34m30\u001b[0m, \u001b[38;5;34m150\u001b[0m)             │               \u001b[38;5;34m0\u001b[0m │\n",
       "├──────────────────────────────────────┼─────────────────────────────┼─────────────────┤\n",
       "│ lstm_2 (\u001b[38;5;33mLSTM\u001b[0m)                        │ (\u001b[38;5;45mNone\u001b[0m, \u001b[38;5;34m150\u001b[0m)                 │         \u001b[38;5;34m180,600\u001b[0m │\n",
       "├──────────────────────────────────────┼─────────────────────────────┼─────────────────┤\n",
       "│ dense (\u001b[38;5;33mDense\u001b[0m)                        │ (\u001b[38;5;45mNone\u001b[0m, \u001b[38;5;34m5\u001b[0m)                   │             \u001b[38;5;34m755\u001b[0m │\n",
       "└──────────────────────────────────────┴─────────────────────────────┴─────────────────┘\n"
      ]
     },
     "metadata": {},
     "output_type": "display_data"
    },
    {
     "data": {
      "text/html": [
       "<pre style=\"white-space:pre;overflow-x:auto;line-height:normal;font-family:Menlo,'DejaVu Sans Mono',consolas,'Courier New',monospace\"><span style=\"font-weight: bold\"> Total params: </span><span style=\"color: #00af00; text-decoration-color: #00af00\">490,355</span> (1.87 MB)\n",
       "</pre>\n"
      ],
      "text/plain": [
       "\u001b[1m Total params: \u001b[0m\u001b[38;5;34m490,355\u001b[0m (1.87 MB)\n"
      ]
     },
     "metadata": {},
     "output_type": "display_data"
    },
    {
     "data": {
      "text/html": [
       "<pre style=\"white-space:pre;overflow-x:auto;line-height:normal;font-family:Menlo,'DejaVu Sans Mono',consolas,'Courier New',monospace\"><span style=\"font-weight: bold\"> Trainable params: </span><span style=\"color: #00af00; text-decoration-color: #00af00\">490,355</span> (1.87 MB)\n",
       "</pre>\n"
      ],
      "text/plain": [
       "\u001b[1m Trainable params: \u001b[0m\u001b[38;5;34m490,355\u001b[0m (1.87 MB)\n"
      ]
     },
     "metadata": {},
     "output_type": "display_data"
    },
    {
     "data": {
      "text/html": [
       "<pre style=\"white-space:pre;overflow-x:auto;line-height:normal;font-family:Menlo,'DejaVu Sans Mono',consolas,'Courier New',monospace\"><span style=\"font-weight: bold\"> Non-trainable params: </span><span style=\"color: #00af00; text-decoration-color: #00af00\">0</span> (0.00 B)\n",
       "</pre>\n"
      ],
      "text/plain": [
       "\u001b[1m Non-trainable params: \u001b[0m\u001b[38;5;34m0\u001b[0m (0.00 B)\n"
      ]
     },
     "metadata": {},
     "output_type": "display_data"
    }
   ],
   "source": [
    "#My model code\n",
    "\n",
    "# Model Code 1\n",
    "# Create the model\n",
    "inputs = keras.layers.Input(shape=(x_training.shape[1], x_training.shape[2]))\n",
    "x = keras.layers.LSTM(150, return_sequences= True)(inputs)\n",
    "x = keras.layers.Dropout(0.3)(x)\n",
    "x = keras.layers.LSTM(150, return_sequences=True)(x)\n",
    "x = keras.layers.Dropout(0.3)(x)\n",
    "x = keras.layers.LSTM(150)(x)\n",
    "outputs = keras.layers.Dense(n_steps_out, activation='linear')(x)\n",
    "\n",
    "model = keras.Model(inputs=inputs, outputs=outputs)\n",
    "model.compile(optimizer='adam', loss=\"mse\")\n",
    "model.summary()\n",
    "\n",
    "# # Model Code 2\n",
    "# # define model\n",
    "# model = Sequential()\n",
    "# model.add(LSTM(100, activation='relu', return_sequences=True, input_shape=(n_steps_in, n_features)))\n",
    "# model.add(LSTM(100, activation='relu'))\n",
    "# model.add(Dense(n_steps_out))\n",
    "# model.compile(optimizer='adam', loss='mse')\n",
    "# model.summary()"
   ]
  },
  {
   "cell_type": "code",
   "execution_count": 9,
   "id": "6725ae74-fd32-4039-ac80-a57ee52dccbc",
   "metadata": {},
   "outputs": [
    {
     "name": "stdout",
     "output_type": "stream",
     "text": [
      "Epoch 1/10\n",
      "\u001b[1m158/158\u001b[0m \u001b[32m━━━━━━━━━━━━━━━━━━━━\u001b[0m\u001b[37m\u001b[0m \u001b[1m11s\u001b[0m 68ms/step - loss: 0.0036 - val_loss: 0.0727\n",
      "Epoch 2/10\n",
      "\u001b[1m158/158\u001b[0m \u001b[32m━━━━━━━━━━━━━━━━━━━━\u001b[0m\u001b[37m\u001b[0m \u001b[1m11s\u001b[0m 69ms/step - loss: 0.0072 - val_loss: 0.0844\n",
      "Epoch 3/10\n",
      "\u001b[1m158/158\u001b[0m \u001b[32m━━━━━━━━━━━━━━━━━━━━\u001b[0m\u001b[37m\u001b[0m \u001b[1m10s\u001b[0m 66ms/step - loss: 0.0039 - val_loss: 0.0390\n",
      "Epoch 4/10\n",
      "\u001b[1m158/158\u001b[0m \u001b[32m━━━━━━━━━━━━━━━━━━━━\u001b[0m\u001b[37m\u001b[0m \u001b[1m10s\u001b[0m 66ms/step - loss: 0.0044 - val_loss: 0.0945\n",
      "Epoch 5/10\n",
      "\u001b[1m158/158\u001b[0m \u001b[32m━━━━━━━━━━━━━━━━━━━━\u001b[0m\u001b[37m\u001b[0m \u001b[1m10s\u001b[0m 66ms/step - loss: 0.0043 - val_loss: 0.0618\n",
      "Epoch 6/10\n",
      "\u001b[1m158/158\u001b[0m \u001b[32m━━━━━━━━━━━━━━━━━━━━\u001b[0m\u001b[37m\u001b[0m \u001b[1m10s\u001b[0m 65ms/step - loss: 0.0022 - val_loss: 0.0680\n",
      "Epoch 7/10\n",
      "\u001b[1m158/158\u001b[0m \u001b[32m━━━━━━━━━━━━━━━━━━━━\u001b[0m\u001b[37m\u001b[0m \u001b[1m10s\u001b[0m 66ms/step - loss: 0.0017 - val_loss: 0.0669\n",
      "Epoch 8/10\n",
      "\u001b[1m158/158\u001b[0m \u001b[32m━━━━━━━━━━━━━━━━━━━━\u001b[0m\u001b[37m\u001b[0m \u001b[1m10s\u001b[0m 66ms/step - loss: 0.0018 - val_loss: 0.0634\n",
      "Epoch 9/10\n",
      "\u001b[1m158/158\u001b[0m \u001b[32m━━━━━━━━━━━━━━━━━━━━\u001b[0m\u001b[37m\u001b[0m \u001b[1m10s\u001b[0m 65ms/step - loss: 0.0015 - val_loss: 0.0668\n",
      "Epoch 10/10\n",
      "\u001b[1m158/158\u001b[0m \u001b[32m━━━━━━━━━━━━━━━━━━━━\u001b[0m\u001b[37m\u001b[0m \u001b[1m11s\u001b[0m 67ms/step - loss: 0.0014 - val_loss: 0.0646\n"
     ]
    },
    {
     "data": {
      "image/png": "[encoded data removed]",
      "text/plain": [
       "<Figure size 640x480 with 1 Axes>"
      ]
     },
     "metadata": {},
     "output_type": "display_data"
    }
   ],
   "source": [
    "# fit model\n",
    "history = model.fit(x_training, y_training, epochs=10, batch_size=72, validation_data=(x_validation, y_validation), verbose=1, shuffle=False)\n",
    "pyplot.plot(history.history['loss'], label='train')\n",
    "pyplot.plot(history.history['val_loss'], label='test')\n",
    "pyplot.legend()\n",
    "pyplot.show()"
   ]
  },
  {
   "cell_type": "code",
   "execution_count": 7,
   "id": "9137d158-62cc-4452-8908-b93a7bb8885f",
   "metadata": {},
   "outputs": [
    {
     "name": "stdout",
     "output_type": "stream",
     "text": [
      "[[0.5975436  0.611223   0.60246193 0.6098603  0.6025836 ]]\n",
      "[0.77800046 0.7523072  0.70678445 0.65627923 0.65020185]\n"
     ]
    }
   ],
   "source": [
    "# demonstrate prediction\n",
    "# Nemoj zaboraviti da jedan row je jedan step, a kolona je jedan feature\n",
    "x_input = x_testing[0]\n",
    "x_input = x_input.reshape((1, n_steps_in, n_features))\n",
    "yhat = model.predict(x_input, verbose=0)\n",
    "print(yhat)\n",
    "print(y_validation[0])"
   ]
  },
  {
   "cell_type": "code",
   "execution_count": null,
   "id": "8f8349fa-412b-4097-9351-d3fb2b24726b",
   "metadata": {},
   "outputs": [],
   "source": [
    "########################################################################################\n",
    "#Config window, so set all your configurations here\n",
    "\n",
    "\n",
    "# Function to run ADF test on each column\n",
    "def adf_test_on_dataframe(dataframe):\n",
    "    adf_results = {}\n",
    "    for column in tqdm(dataframe.columns):\n",
    "        result = adfuller(dataframe[column])\n",
    "        adf_results[column] = {\n",
    "            'Test Statistic': result[0],\n",
    "            'p-value': result[1],\n",
    "            'Num Lags': result[2],\n",
    "            'Num Observations used': result[3],\n",
    "            'Critical Values': result[4],\n",
    "        }\n",
    "        \n",
    "    return adf_results\n",
    "\n",
    "adf_test1 = adf_test_on_dataframe(dataset)\n",
    "\n",
    "changed_columns = []\n",
    "for column in tqdm(dataset.columns):\n",
    "    if adf_test1[column]['p-value'] > 0.05:\n",
    "        changed_columns.append(column)\n",
    "        dataset[column] = dataset[column].diff().fillna(0)\n",
    "\n",
    "adf_test2 = adf_test_on_dataframe(dataset)\n",
    "\n",
    "\n",
    "\n",
    "# for column in tqdm(dataset.columns):\n",
    "#          dataset[column] = dataset[column].pct_change()\n",
    "\n",
    "# dataset = dataset.dropna()\n",
    "\n",
    "# if dataset.isna().any().any():\n",
    "#     print(\"DataFrame contains NaN values.\")\n",
    "# else:\n",
    "#     print(\"DataFrame does not contain NaN values.\")\n",
    "\n",
    "# pd.set_option('display.max_rows', None)\n",
    "\n",
    "# nan_counts = dataset.isna().sum()\n",
    "# print(\"\\nNumber of NaN values in each column:\")\n",
    "# print(nan_counts)\n",
    "\n",
    "# # Total number of NaN values in the DataFrame\n",
    "# total_nan_count = dataset.isna().sum().sum()\n",
    "# print(\"\\nTotal number of NaN values in the DataFrame:\", total_nan_count)\n",
    "\n",
    "# # Running the ADF test on each column of the DataFrame\n",
    "# before,after,new_dataset = adf_test_on_dataframe(dataset)"
   ]
  },
  {
   "cell_type": "code",
   "execution_count": null,
   "id": "17ffae5e-2dcf-426f-982f-6efed133fed5",
   "metadata": {},
   "outputs": [],
   "source": [
    "changed_columns = []\n",
    "for column in tqdm(dataset.columns):\n",
    "    if adf_test2[column]['p-value'] > 0.05:\n",
    "        changed_columns.append(column)\n",
    "        dataset[column] = dataset[column].diff().fillna(0)\n",
    "\n",
    "adf_test3 = adf_test_on_dataframe(dataset)\n",
    "\n",
    "\n"
   ]
  },
  {
   "cell_type": "code",
   "execution_count": null,
   "id": "09c0b9df-2332-40b4-bba9-19a5e54c4eaa",
   "metadata": {},
   "outputs": [],
   "source": [
    "# Example of how to print the results\n",
    "for column, adf_test1 in tqdm(results.items()):\n",
    "    print(f\"Column: {column}\")\n",
    "    for key, value in adf_test1.items():\n",
    "        print(f\"{key}: {value}\")\n",
    "    \n",
    "    for key, value in adf_test2.items():\n",
    "        print(f\"{key}: {value}\")\n",
    "    # print()\n",
    "    # for key, value in adf_test3.items():\n",
    "    #     print(f\"{key}: {value}\")\n",
    "    print()  # For better readability\n",
    "    "
   ]
  },
  {
   "cell_type": "code",
   "execution_count": null,
   "id": "13deb6b5-73a8-4b5f-bd67-bd389dfbdef1",
   "metadata": {},
   "outputs": [],
   "source": [
    " changed_columns = []\n",
    "    for column in tqdm(dataframe.columns):\n",
    "         dataframe[column] = dataframe[column].pct_change()\n",
    "        # if adf_before[column]['p-value'] > 0.05:\n",
    "        #     changed_columns.append(column)\n",
    "        #     dataframe[column] = dataframe[column].diff().fillna(0)\n",
    "\n",
    "    dataframe = dataframe.fillna(0)\n",
    "   \n",
    "\n",
    "\n",
    "adf_after = {}\n",
    "for column in tqdm(new_dataset.columns):\n",
    "        result = adfuller(new_dataset[column])\n",
    "        adf_after[column] = {\n",
    "            'Test Statistic': result[0],\n",
    "            'p-value': result[1],\n",
    "            'Num Lags': result[2],\n",
    "            'Num Observations used': result[3],\n",
    "            'Critical Values': result[4],\n",
    "        }\n",
    "\n",
    "\n",
    "# Example of how to print the results\n",
    "for column, adf_after in tqdm(results.items()):\n",
    "    print(f\"Column: {column}\")\n",
    "    for key, value in adf_result.items():\n",
    "        print(f\"{key}: {value}\")\n",
    "    print()  # For better readability\n",
    "    "
   ]
  },
  {
   "cell_type": "code",
   "execution_count": null,
   "id": "5db80368-4113-4f1c-836a-5fe9a63d09c7",
   "metadata": {},
   "outputs": [],
   "source": [
    "\n",
    "\n",
    "\n",
    "def differentiate_column(column):\n",
    "    return column.diff().fillna(0)  # Using .diff() for differencing and filling NaNs with 0\n",
    "\n",
    "print('Differentiating')\n",
    "for column in tqdm(dataset.columns):\n",
    "    dataset[column] = differentiate_column(dataset[column])\n",
    "\n",
    "\n",
    "\n",
    "\n",
    "\n",
    "\n",
    "# If you want to print the ADF test results for each column\n",
    "print(\"\\nADF Test Results:\")\n",
    "for column, p_value in adf_results.items():\n",
    "    print(f\"{column}: {p_value}\")\n",
    "\n",
    "\n",
    "\n",
    "adf_results = {}  # Initialize an empty dictionary to store ADF test results\n",
    "\n",
    "\n",
    "def adf_test_values(column):\n",
    "    result_before_diff = adfuller(column)\n",
    "    \n",
    "    # Check if differencing is necessary\n",
    "    if result_before_diff[1] > 0.05:\n",
    "        column_diff = column.diff().fillna(0)\n",
    "        result_after_diff = adfuller(column_diff)\n",
    "        return {\n",
    "            'before_diff': result_before_diff[1],\n",
    "            'after_diff': result_after_diff[1],\n",
    "        }\n",
    "    else:\n",
    "        # If already stationary, no differencing is applied\n",
    "        return {\n",
    "            'before_diff': result_before_diff[1],\n",
    "            'after_diff': None,\n",
    "        }\n",
    "\n",
    "adf_results = {}  # Dictionary to store ADF test values\n",
    "\n",
    "# Iterate through columns and store ADF test values\n",
    "for column in tqdm(dataset.columns):\n",
    "    adf_results[column] = adf_test_values(dataset[column])\n",
    "\n",
    "print(adf_results)\n",
    "\n",
    "\n",
    "# Now, adf_results contains ADF test values and differentiated columns only if necessary\n",
    "\n",
    "\n"
   ]
  },
  {
   "cell_type": "code",
   "execution_count": null,
   "id": "33a95223-5a29-4b11-806e-1e83ba3534b9",
   "metadata": {
    "scrolled": true
   },
   "outputs": [],
   "source": [
    "# Ovo je basic plotting\n",
    "# Automatically determine the number of columns\n",
    "num_columns = dataset.shape[1]  # This gets the number of columns in the DataFrame\n",
    "\n",
    "pyplot.figure(figsize=(10, num_columns*2))  # Adjust the figure size as needed\n",
    "\n",
    "# Plot each column\n",
    "for i in range(num_columns):\n",
    "    pyplot.subplot(num_columns, 1, i+1)  # Subplots are indexed from 1\n",
    "    pyplot.plot(scaled[:, i])\n",
    "    pyplot.title(dataset.columns[i], y=0.5, loc='right')\n",
    "\n",
    "pyplot.tight_layout()  # Optional: Improves the layout\n",
    "pyplot.show()"
   ]
  },
  {
   "cell_type": "code",
   "execution_count": null,
   "id": "c8170ed2-a433-43a1-8ea1-79a9263d9f65",
   "metadata": {},
   "outputs": [],
   "source": [
    "#My model code\n",
    "\n",
    "\n",
    "\n",
    "# Model Code 1\n",
    "# Create the model\n",
    "inputs = keras.layers.Input(shape=(X_train.shape[1], X_train.shape[2]))\n",
    "x = keras.layers.LSTM(150, return_sequences= True)(inputs)\n",
    "x = keras.layers.Dropout(0.3)(x)\n",
    "x = keras.layers.LSTM(150, return_sequences=True)(x)\n",
    "x = keras.layers.Dropout(0.3)(x)\n",
    "x = keras.layers.LSTM(150)(x)\n",
    "outputs = keras.layers.Dense(1, activation='linear')(x)\n",
    "\n",
    "model = keras.Model(inputs=inputs, outputs=outputs)\n",
    "model.compile(optimizer='adam', loss=\"mse\")\n",
    "model.summary()\n",
    "\n",
    "# Model Code 2\n",
    "# define model\n",
    "model = Sequential()\n",
    "model.add(LSTM(100, activation='relu', return_sequences=True, input_shape=(n_steps_in, n_features)))\n",
    "model.add(LSTM(100, activation='relu'))\n",
    "model.add(Dense(n_steps_out))\n",
    "model.compile(optimizer='adam', loss='mse')\n",
    "model.summary()"
   ]
  },
  {
   "cell_type": "code",
   "execution_count": null,
   "id": "4e7bd2ae-d1b2-45d7-8c50-19278debcef3",
   "metadata": {},
   "outputs": [],
   "source": [
    "# fit model\n",
    "model.fit(X, y, epochs=200, verbose=0)\n",
    "# demonstrate prediction\n",
    "# Nemoj zaboraviti da jedan row je jedan step, a kolona je jedan feature\n",
    "x_input = array([[70, 75], \n",
    "                 [80, 85], \n",
    "                 [90, 95],\n",
    "                 [100, 105],\n",
    "                 [105, 110],])\n",
    "x_input = x_input.reshape((1, n_steps_in, n_features))\n",
    "yhat = model.predict(x_input, verbose=0)\n",
    "print(yhat)"
   ]
  }
 ],
 "metadata": {
  "kernelspec": {
   "display_name": "Python 3 (ipykernel)",
   "language": "python",
   "name": "python3"
  },
  "language_info": {
   "codemirror_mode": {
    "name": "ipython",
    "version": 3
   },
   "file_extension": ".py",
   "mimetype": "text/x-python",
   "name": "python",
   "nbconvert_exporter": "python",
   "pygments_lexer": "ipython3",
   "version": "3.12.2"
  }
 },
 "nbformat": 4,
 "nbformat_minor": 5
}
